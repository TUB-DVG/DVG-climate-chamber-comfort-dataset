{
 "cells": [
  {
   "cell_type": "code",
   "execution_count": null,
   "metadata": {},
   "outputs": [],
   "source": [
    "import numpy as np\n",
    "import pandas as pd\n",
    "from sklearn.impute import KNNImputer\n",
    "from sklearn.preprocessing import LabelEncoder"
   ]
  },
  {
   "cell_type": "code",
   "execution_count": 2,
   "metadata": {},
   "outputs": [],
   "source": [
    "processed_data=pd.read_csv('../data/processed_data.csv')"
   ]
  },
  {
   "cell_type": "code",
   "execution_count": 3,
   "metadata": {},
   "outputs": [
    {
     "data": {
      "text/html": [
       "<div>\n",
       "<style scoped>\n",
       "    .dataframe tbody tr th:only-of-type {\n",
       "        vertical-align: middle;\n",
       "    }\n",
       "\n",
       "    .dataframe tbody tr th {\n",
       "        vertical-align: top;\n",
       "    }\n",
       "\n",
       "    .dataframe thead th {\n",
       "        text-align: right;\n",
       "    }\n",
       "</style>\n",
       "<table border=\"1\" class=\"dataframe\">\n",
       "  <thead>\n",
       "    <tr style=\"text-align: right;\">\n",
       "      <th></th>\n",
       "      <th>ID</th>\n",
       "      <th>TSV</th>\n",
       "      <th>TPV</th>\n",
       "      <th>met</th>\n",
       "      <th>age</th>\n",
       "      <th>sex</th>\n",
       "      <th>w_st</th>\n",
       "      <th>a_st</th>\n",
       "      <th>HR</th>\n",
       "      <th>T_g</th>\n",
       "      <th>RH_in</th>\n",
       "      <th>T_in</th>\n",
       "      <th>CO_2</th>\n",
       "      <th>V_a</th>\n",
       "      <th>T_out</th>\n",
       "      <th>RH_out</th>\n",
       "      <th>clo</th>\n",
       "      <th>BMI</th>\n",
       "      <th>T_mrt</th>\n",
       "    </tr>\n",
       "  </thead>\n",
       "  <tbody>\n",
       "    <tr>\n",
       "      <th>0</th>\n",
       "      <td>1</td>\n",
       "      <td>0</td>\n",
       "      <td>-1</td>\n",
       "      <td>1.2</td>\n",
       "      <td>30</td>\n",
       "      <td>Female</td>\n",
       "      <td>28.58200</td>\n",
       "      <td>28.7993</td>\n",
       "      <td>86.945652</td>\n",
       "      <td>18.29</td>\n",
       "      <td>39.77</td>\n",
       "      <td>18.63</td>\n",
       "      <td>732.9</td>\n",
       "      <td>0.038</td>\n",
       "      <td>1.336667</td>\n",
       "      <td>94.704930</td>\n",
       "      <td>1.35</td>\n",
       "      <td>22.832879</td>\n",
       "      <td>18.169260</td>\n",
       "    </tr>\n",
       "    <tr>\n",
       "      <th>1</th>\n",
       "      <td>2</td>\n",
       "      <td>-1</td>\n",
       "      <td>1</td>\n",
       "      <td>1.0</td>\n",
       "      <td>66</td>\n",
       "      <td>Male</td>\n",
       "      <td>29.90445</td>\n",
       "      <td>31.0381</td>\n",
       "      <td>74.120482</td>\n",
       "      <td>18.60</td>\n",
       "      <td>38.19</td>\n",
       "      <td>18.93</td>\n",
       "      <td>765.7</td>\n",
       "      <td>0.038</td>\n",
       "      <td>1.390000</td>\n",
       "      <td>94.639374</td>\n",
       "      <td>0.88</td>\n",
       "      <td>37.448347</td>\n",
       "      <td>18.483187</td>\n",
       "    </tr>\n",
       "    <tr>\n",
       "      <th>2</th>\n",
       "      <td>1</td>\n",
       "      <td>1</td>\n",
       "      <td>-1</td>\n",
       "      <td>1.2</td>\n",
       "      <td>30</td>\n",
       "      <td>Female</td>\n",
       "      <td>29.35660</td>\n",
       "      <td>30.2740</td>\n",
       "      <td>86.651685</td>\n",
       "      <td>18.63</td>\n",
       "      <td>38.02</td>\n",
       "      <td>18.96</td>\n",
       "      <td>763.3</td>\n",
       "      <td>0.039</td>\n",
       "      <td>1.396667</td>\n",
       "      <td>94.631180</td>\n",
       "      <td>1.35</td>\n",
       "      <td>22.832879</td>\n",
       "      <td>18.511387</td>\n",
       "    </tr>\n",
       "    <tr>\n",
       "      <th>3</th>\n",
       "      <td>2</td>\n",
       "      <td>-1</td>\n",
       "      <td>1</td>\n",
       "      <td>1.0</td>\n",
       "      <td>66</td>\n",
       "      <td>Male</td>\n",
       "      <td>29.95435</td>\n",
       "      <td>31.0880</td>\n",
       "      <td>73.465116</td>\n",
       "      <td>18.65</td>\n",
       "      <td>37.74</td>\n",
       "      <td>18.97</td>\n",
       "      <td>756.8</td>\n",
       "      <td>0.044</td>\n",
       "      <td>1.410000</td>\n",
       "      <td>94.614791</td>\n",
       "      <td>0.88</td>\n",
       "      <td>37.448347</td>\n",
       "      <td>18.526371</td>\n",
       "    </tr>\n",
       "    <tr>\n",
       "      <th>4</th>\n",
       "      <td>3</td>\n",
       "      <td>-1</td>\n",
       "      <td>1</td>\n",
       "      <td>1.0</td>\n",
       "      <td>47</td>\n",
       "      <td>Male</td>\n",
       "      <td>29.94800</td>\n",
       "      <td>32.5880</td>\n",
       "      <td>81.819149</td>\n",
       "      <td>19.35</td>\n",
       "      <td>32.49</td>\n",
       "      <td>18.60</td>\n",
       "      <td>641.1</td>\n",
       "      <td>0.035</td>\n",
       "      <td>1.423333</td>\n",
       "      <td>94.598402</td>\n",
       "      <td>0.89</td>\n",
       "      <td>22.351743</td>\n",
       "      <td>19.600292</td>\n",
       "    </tr>\n",
       "  </tbody>\n",
       "</table>\n",
       "</div>"
      ],
      "text/plain": [
       "   ID  TSV  TPV  met  age     sex      w_st     a_st         HR    T_g  RH_in  \\\n",
       "0   1    0   -1  1.2   30  Female  28.58200  28.7993  86.945652  18.29  39.77   \n",
       "1   2   -1    1  1.0   66    Male  29.90445  31.0381  74.120482  18.60  38.19   \n",
       "2   1    1   -1  1.2   30  Female  29.35660  30.2740  86.651685  18.63  38.02   \n",
       "3   2   -1    1  1.0   66    Male  29.95435  31.0880  73.465116  18.65  37.74   \n",
       "4   3   -1    1  1.0   47    Male  29.94800  32.5880  81.819149  19.35  32.49   \n",
       "\n",
       "    T_in   CO_2    V_a     T_out     RH_out   clo        BMI      T_mrt  \n",
       "0  18.63  732.9  0.038  1.336667  94.704930  1.35  22.832879  18.169260  \n",
       "1  18.93  765.7  0.038  1.390000  94.639374  0.88  37.448347  18.483187  \n",
       "2  18.96  763.3  0.039  1.396667  94.631180  1.35  22.832879  18.511387  \n",
       "3  18.97  756.8  0.044  1.410000  94.614791  0.88  37.448347  18.526371  \n",
       "4  18.60  641.1  0.035  1.423333  94.598402  0.89  22.351743  19.600292  "
      ]
     },
     "execution_count": 3,
     "metadata": {},
     "output_type": "execute_result"
    }
   ],
   "source": [
    "processed_data.head()"
   ]
  },
  {
   "cell_type": "code",
   "execution_count": 4,
   "metadata": {},
   "outputs": [],
   "source": [
    "X = processed_data.drop(columns=['TPV', 'TSV'])\n",
    "y = processed_data['TPV']\n",
    "\n",
    "X = pd.get_dummies(X, columns=['sex'], drop_first=True)\n",
    "le = LabelEncoder()\n",
    "X['ID'] = le.fit_transform(X['ID'])"
   ]
  },
  {
   "cell_type": "markdown",
   "metadata": {},
   "source": [
    "Input missing values"
   ]
  },
  {
   "cell_type": "code",
   "execution_count": 5,
   "metadata": {},
   "outputs": [],
   "source": [
    "imputer = KNNImputer(n_neighbors=5)\n",
    "X_imputed = pd.DataFrame(imputer.fit_transform(X), columns=X.columns)"
   ]
  },
  {
   "cell_type": "markdown",
   "metadata": {},
   "source": [
    "Correlation analysis to drop highly correlated features"
   ]
  },
  {
   "cell_type": "code",
   "execution_count": 6,
   "metadata": {},
   "outputs": [
    {
     "data": {
      "text/plain": [
       "['T_g', 'T_mrt']"
      ]
     },
     "execution_count": 6,
     "metadata": {},
     "output_type": "execute_result"
    }
   ],
   "source": [
    "corr_matrix = X_imputed.corr().abs()\n",
    "upper = corr_matrix.where(~np.tril(np.ones(corr_matrix.shape)).astype(bool))\n",
    "to_force_drop = ['T_mrt', 'T_g']  \n",
    "to_keep = ['T_in']              \n",
    "\n",
    "to_drop = [\n",
    "    column for column in upper.columns\n",
    "    if any(upper[column] > 0.95)\n",
    "    and column not in to_keep  \n",
    "    or column in to_force_drop  \n",
    "]\n",
    "X_filtered = X_imputed.drop(columns=to_drop)\n",
    "\n",
    "to_drop"
   ]
  }
 ],
 "metadata": {
  "kernelspec": {
   "display_name": ".venv",
   "language": "python",
   "name": "python3"
  },
  "language_info": {
   "codemirror_mode": {
    "name": "ipython",
    "version": 3
   },
   "file_extension": ".py",
   "mimetype": "text/x-python",
   "name": "python",
   "nbconvert_exporter": "python",
   "pygments_lexer": "ipython3",
   "version": "3.13.1"
  }
 },
 "nbformat": 4,
 "nbformat_minor": 2
}
